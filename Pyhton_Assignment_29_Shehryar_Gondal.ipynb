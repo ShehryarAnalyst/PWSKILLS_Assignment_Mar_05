{
 "cells": [
  {
   "cell_type": "markdown",
   "id": "33a3bef5",
   "metadata": {},
   "source": [
    "## Assignment"
   ]
  },
  {
   "cell_type": "markdown",
   "id": "cbef1e1f",
   "metadata": {},
   "source": [
    "__Q1. How can you create a Bokeh plot using Python code?__"
   ]
  },
  {
   "cell_type": "code",
   "execution_count": 4,
   "id": "bc801711",
   "metadata": {},
   "outputs": [],
   "source": [
    "import bokeh.plotting as bkp\n",
    "from bokeh.plotting import figure ,output_file , show\n",
    "from bokeh.io import output_notebook, show\n",
    "fig = bkp.figure()\n",
    "output_file('test.html')\n",
    "x = [1, 2, 3, 4, 5]\n",
    "y = [6, 7, 2, 4, 5]\n",
    "fig.scatter(x, y)\n",
    "fig.xaxis.axis_label = 'X axis label'\n",
    "fig.yaxis.axis_label = 'Y axis label'\n",
    "fig.plot_width = 800\n",
    "fig.plot_height = 400\n",
    "fig.title.text = 'Title of the plot'\n",
    "show(fig)"
   ]
  },
  {
   "cell_type": "markdown",
   "id": "46c3fec7",
   "metadata": {},
   "source": [
    "__Q2. What are glyphs in Bokeh, and how can you add them to a Bokeh plot? Explain with an example.__\n",
    "\n",
    "__Ans)__ Glyphs are the basic visual building blocks in Bokeh, which are used to represent data on a plot. Glyphs can be thought of as shapes, such as circles, squares, or lines, that are positioned on the plot based on the data being displayed.\n",
    "\n",
    "To add glyphs to a Bokeh plot, you can use the .circle(), .square(), .line(), or other glyph methods of the figure object. For example, the following code creates a scatter plot of two sets of x and y values using circles as the glyphs:"
   ]
  },
  {
   "cell_type": "code",
   "execution_count": 5,
   "id": "dba96ac1",
   "metadata": {},
   "outputs": [],
   "source": [
    "import bokeh.plotting as bkp\n",
    "from bokeh.io import output_notebook, show\n",
    "\n",
    "# create some data\n",
    "x = [1, 2, 3, 4, 5]\n",
    "y = [6, 7, 2, 4, 5]\n",
    "z = [8, 5, 6, 3, 9]\n",
    "\n",
    "# create a figure object\n",
    "fig = bkp.figure()\n",
    "\n",
    "# add glyphs to the figure object\n",
    "fig.circle(x, y, size=10, color='red', alpha=0.5)\n",
    "fig.circle(x, z, size=10, color='blue', alpha=0.5)\n",
    "\n",
    "# customize the plot as desired\n",
    "fig.xaxis.axis_label = 'X axis label'\n",
    "fig.yaxis.axis_label = 'Y axis label'\n",
    "fig.plot_width = 800\n",
    "fig.plot_height = 400\n",
    "fig.title.text = 'Scatter Plot with Circles'\n",
    "\n",
    "# show the plot\n",
    "show(fig)"
   ]
  },
  {
   "cell_type": "markdown",
   "id": "0c80d32d",
   "metadata": {},
   "source": [
    "__Q3. How can you customize the appearance of a Bokeh plot, including the axes, title, and legend?__\n",
    "\n",
    "__Ans)__ Bokeh provides a wide range of options for customizing the appearance of a plot. Here are some examples of how you can customize the appearance of a Bokeh plot:\n",
    "\n",
    "### Axes\n",
    "You can customize the appearance of the axes in a Bokeh plot using various attributes of the Axis class, such as axis_label, axis_label_text_font_size, major_label_text_font_size, major_tick_line_color, and minor_tick_line_color. For example:\n",
    "\n",
    "fig.xaxis.axis_label = 'X axis label'\n",
    "fig.yaxis.axis_label = 'Y axis label'\n",
    "fig.xaxis.axis_label_text_font_size = '16pt'\n",
    "fig.yaxis.axis_label_text_font_size = '16pt'\n",
    "fig.xaxis.major_label_text_font_size = '12pt'\n",
    "fig.yaxis.major_label_text_font_size = '12pt'\n",
    "fig.xaxis.major_tick_line_color = 'black'\n",
    "fig.yaxis.major_tick_line_color = 'black'\n",
    "fig.xaxis.minor_tick_line_color = 'gray'\n",
    "fig.yaxis.minor_tick_line_color = 'gray'\n",
    "\n",
    "### Title\n",
    "\n",
    "You can customize the appearance of the title of a Bokeh plot using the title attribute of the Figure class, as well as various attributes of the Title class, such as text, text_font_size, text_color, and align. For example:\n",
    "\n",
    "\n",
    "fig.title.text = 'Title of the plot'\n",
    "fig.title.text_font_size = '18pt'\n",
    "fig.title.text_color = 'navy'\n",
    "fig.title.align = 'center'\n",
    "\n",
    "### Legend\n",
    "You can customize the appearance of the legend in a Bokeh plot using various attributes of the Legend class, such as label_text_font_size, label_text_color, location, and orientation. For example:\n",
    "\n",
    "\n",
    "fig.legend.label_text_font_size = '12pt'\n",
    "fig.legend.label_text_color = 'black'\n",
    "fig.legend.location = 'top_left'\n",
    "fig.legend.orientation = 'horizontal'\n",
    "\n",
    "In addition to these examples, Bokeh provides many other options for customizing the appearance of plots, including the color and size of glyphs, the width and style of lines, and the layout of multiple plots on a single page. The Bokeh User Guide and Bokeh Reference Guide provide detailed documentation and examples of all the available options for customizing Bokeh plots."
   ]
  },
  {
   "cell_type": "markdown",
   "id": "c543a69e",
   "metadata": {},
   "source": [
    "Q4. What is a Bokeh server, and how can you use it to create interactive plots that can be updated in\n",
    "real time?\n",
    "\n",
    "__Ans)__ Bokeh server is a component of the Bokeh library that allows you to create and deploy interactive web applications for data visualization. With Bokeh server, you can create dynamic and interactive plots that can be updated in real-time in response to user input or changes in the underlying data.\n",
    "\n",
    "To create an interactive plot with Bokeh server, you need to define a Bokeh Document, which is a data structure that represents the layout and properties of the plot. You can then define a callback function that updates the plot in response to user input or changes in the data. The callback function is executed on the server, and can modify the properties of the plot or the data being displayed.\n",
    "\n",
    "Once you have defined the document and the callback function, you can use the bokeh serve command to start a Bokeh server that serves the interactive plot. The server listens for incoming requests from web browsers, and sends the updated plot to the browser in real-time using websockets.\n",
    "\n",
    "Here is an example of how you can use Bokeh server to create an interactive plot that updates in real-time:"
   ]
  },
  {
   "cell_type": "code",
   "execution_count": null,
   "id": "dfd53263",
   "metadata": {},
   "outputs": [],
   "source": [
    "from bokeh.io import curdoc\n",
    "from bokeh.layouts import column\n",
    "from bokeh.models import ColumnDataSource\n",
    "from bokeh.plotting import figure\n",
    "from random import random\n",
    "\n",
    "# create a data source\n",
    "source = ColumnDataSource(data=dict(x=[], y=[]))\n",
    "\n",
    "# create a plot\n",
    "plot = figure(x_range=(0, 1), y_range=(0, 1))\n",
    "plot.line('x', 'y', source=source)\n",
    "\n",
    "# define a callback function that updates the plot\n",
    "def update():\n",
    "    new_data = dict(x=[random()], y=[random()])\n",
    "    source.stream(new_data)\n",
    "\n",
    "# add the plot to the document and define the callback\n",
    "curdoc().add_root(column(plot))\n",
    "curdoc().add_periodic_callback(update, 1000)"
   ]
  },
  {
   "cell_type": "code",
   "execution_count": null,
   "id": "2d548990",
   "metadata": {},
   "outputs": [],
   "source": [
    "Q5. How can you embed a Bokeh plot into a web page or dashboard using Flask or Django?"
   ]
  },
  {
   "cell_type": "code",
   "execution_count": null,
   "id": "2d6335d5",
   "metadata": {},
   "outputs": [],
   "source": [
    "To embed a Bokeh plot into a web page or dashboard using Flask or Django, you can use the components function from the bokeh.embed module. This function returns the HTML and JavaScript code needed to embed a Bokeh plot into a web page or dashboard.\n",
    "\n",
    "Here is an example of how to use the components function with Flas"
   ]
  },
  {
   "cell_type": "code",
   "execution_count": null,
   "id": "2b6e9326",
   "metadata": {},
   "outputs": [],
   "source": [
    "from flask import Flask, render_template\n",
    "from bokeh.plotting import figure\n",
    "from bokeh.embed import components\n",
    "\n",
    "app = Flask(__name__)\n",
    "\n",
    "@app.route('/')\n",
    "def index():\n",
    "    # create a Bokeh plot\n",
    "    plot = figure()\n",
    "    plot.line([1,2,3,4,5], [6,7,2,4,5])\n",
    "\n",
    "    # get the components of the plot\n",
    "    script, div = components(plot)\n",
    "\n",
    "    # render the template with the plot components\n",
    "    return render_template('index.html', script=script, div=div)\n",
    "\n",
    "if __name__ == '__main__':\n",
    "    app.run(debug=True)\n"
   ]
  },
  {
   "cell_type": "code",
   "execution_count": null,
   "id": "f79c53f5",
   "metadata": {},
   "outputs": [],
   "source": [
    "-------------------------------------------------------------------------------------------- __End__----------------------------------------------------------------------------------------------------------------"
   ]
  }
 ],
 "metadata": {
  "kernelspec": {
   "display_name": "Python 3 (ipykernel)",
   "language": "python",
   "name": "python3"
  },
  "language_info": {
   "codemirror_mode": {
    "name": "ipython",
    "version": 3
   },
   "file_extension": ".py",
   "mimetype": "text/x-python",
   "name": "python",
   "nbconvert_exporter": "python",
   "pygments_lexer": "ipython3",
   "version": "3.9.12"
  },
  "varInspector": {
   "cols": {
    "lenName": 16,
    "lenType": 16,
    "lenVar": 40
   },
   "kernels_config": {
    "python": {
     "delete_cmd_postfix": "",
     "delete_cmd_prefix": "del ",
     "library": "var_list.py",
     "varRefreshCmd": "print(var_dic_list())"
    },
    "r": {
     "delete_cmd_postfix": ") ",
     "delete_cmd_prefix": "rm(",
     "library": "var_list.r",
     "varRefreshCmd": "cat(var_dic_list()) "
    }
   },
   "types_to_exclude": [
    "module",
    "function",
    "builtin_function_or_method",
    "instance",
    "_Feature"
   ],
   "window_display": false
  }
 },
 "nbformat": 4,
 "nbformat_minor": 5
}
